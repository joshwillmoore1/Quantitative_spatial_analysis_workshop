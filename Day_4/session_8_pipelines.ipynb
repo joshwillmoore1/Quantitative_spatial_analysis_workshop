{
 "cells": [
  {
   "cell_type": "markdown",
   "metadata": {},
   "source": [
    "# Pipeline practical session: CODEX Colorectal Cancer Dataset"
   ]
  },
  {
   "cell_type": "markdown",
   "metadata": {},
   "source": [
    "In this practical, we’ll be working with data from **Schürch  (Cell, 2020)** https://www.sciencedirect.com/science/article/pii/S0092867420308709#abs0020 —  \n",
    "*“Coordinated cellular neighborhoods orchestrate antitumoral immunity at the colorectal cancer invasive front.”*  \n",
    "\n",
    "This dataset was generated using **CODEX (CO-Detection by Indexing)**, a highly multiplexed imaging technology that enables spatially resolved, single-cell profiling of many protein markers within intact tissue sections.\n",
    "\n",
    "---\n",
    "\n",
    "#### 🧫 Data summary\n",
    "- **35 patients** with colorectal cancer  \n",
    "- **140 tissue microarray (TMA) cores**, sampled from regions near the **invasive front** of each tumour  \n",
    "- Each row in the dataset corresponds to a **single cell**, annotated with:\n",
    "  - **Spatial coordinates (X, Y)**\n",
    "  - **Cell type** (from multiplexed immunofluorescence clustering)\n",
    "  - **TMA core / domain ID**\n",
    "  - **Patient group information**\n",
    "\n",
    "---\n",
    "\n",
    "#### 🧠 Biological context\n",
    "The study identified two key immune microenvironment patterns:\n",
    "- **Crohn’s-like reaction (CLR)** — characterised by organised immune cell aggregates and a coordinated anti-tumour response.  \n",
    "- **Diffuse inflammatory infiltration (DII)** — showing a more scattered, less coordinated immune cell presence.  \n",
    "\n",
    "Patients exhibiting **CLR** have **significantly better overall survival** compared to those with **DII**.\n",
    "\n",
    "---\n",
    "\n",
    "We’ll use this dataset to reproduce and extend aspects of the Nolan neighbourhood analysis, exploring how spatial organisation and cellular neighbourhoods can reveal functional structure within the tumour microenvironment."
   ]
  },
  {
   "cell_type": "markdown",
   "metadata": {},
   "source": [
    "\n",
    "#### Steps\n",
    "1. **Load the TMA data** into a DataFrame.  \n",
    "2. **Create domains** for each TMA — be sure to include a way to identify groups (for example, using the domain name).  \n",
    "3. **Run neighbourhood clustering** across all samples.\n",
    "4. **Identify neighbourhood adjancecy** by converting neighbourhoods to shapes\n",
    "6. **Compare groups** in terms of neighbourhood composition in each sample and neighbourhood adjacency\n",
    "5. **Save the MuSpAn domains** (either as `.muspan` files or as a `.csv`). \n",
    "\n",
    "\n",
    "💡 *Don’t forget to update the boundary for each core if needed.* Think loops for multiple samples!\n",
    "\n",
    "---\n",
    "\n",
    "#### Data Information\n",
    "- Each row represents a **single cell**.  \n",
    "- **`spots`** – unique ID for each TMA.  \n",
    "- **`groups`** – patient group ID (`1` for CLR or `2` for DII).  \n",
    "- **`ClusterName`** – cell type, as determined by clustering of immunofluorescence per cell.  \n",
    "- **`X:X`** – x-coordinate of the cell.  \n",
    "- **`Y:Y`** – y-coordinate of the cell.  \n",
    "\n",
    "---\n",
    "\n",
    "We’re providing the **full dataset** for this analysis so you can practice **extracting only the relevant information** required for spatial analysis.\n"
   ]
  },
  {
   "cell_type": "code",
   "execution_count": null,
   "metadata": {},
   "outputs": [],
   "source": [
    "import pandas as pd\n",
    "import requests\n",
    "\n",
    "# grab the csv file from the URL and load it into a pandas DataFrame\n",
    "nolan_tma_dataframe = pd.read_csv(requests.get())"
   ]
  }
 ],
 "metadata": {
  "kernelspec": {
   "display_name": "base",
   "language": "python",
   "name": "python3"
  },
  "language_info": {
   "codemirror_mode": {
    "name": "ipython",
    "version": 3
   },
   "file_extension": ".py",
   "mimetype": "text/x-python",
   "name": "python",
   "nbconvert_exporter": "python",
   "pygments_lexer": "ipython3",
   "version": "3.12.2"
  }
 },
 "nbformat": 4,
 "nbformat_minor": 2
}
