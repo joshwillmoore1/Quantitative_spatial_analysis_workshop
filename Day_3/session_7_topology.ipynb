{
 "cells": [
  {
   "cell_type": "markdown",
   "metadata": {},
   "source": [
    "# Topological Data Analysis"
   ]
  },
  {
   "cell_type": "markdown",
   "metadata": {},
   "source": [
    "We'll now experiment with calculating the topology of objects within various different MuSpAn domains. A good dataset for this is the ```'Synthetic-Points-Architecture'``` dataset, which is designed to have structures with interesting topology (in this context, loops or connected components)."
   ]
  },
  {
   "cell_type": "code",
   "execution_count": null,
   "metadata": {},
   "outputs": [],
   "source": [
    "import muspan as ms\n",
    "import matplotlib.pyplot as plt\n",
    "\n",
    "domain = ms.datasets.load_example_domain('Synthetic-Points-Architecture')\n",
    "ms.visualise.visualise(domain, 'Celltype')"
   ]
  },
  {
   "cell_type": "markdown",
   "metadata": {},
   "source": [
    "Unlike many of the other methods that we've looked at this week, MuSpAn's topological data analysis tools just take in a single population of objects. Let's start by calculating the topology of each of the different cell types individually. We'll use ```ms.topology.vietoris_rips()``` to generate the persistence diagrams associated with each point cloud.\n",
    "\n",
    "1. Edit the code below to plot the persistence diagrams associated with each cell type."
   ]
  },
  {
   "cell_type": "code",
   "execution_count": null,
   "metadata": {},
   "outputs": [],
   "source": [
    "cell_types = ['A','B','C','D']\n",
    "\n",
    "for i, cell_type in enumerate(cell_types):\n",
    "    fig, axes = plt.subplots(nrows=1, ncols=2)\n",
    "    population = ?????\n",
    "    # Visualise the points in the left hand axis\n",
    "    ms.visualise.visualise(domain, color_by='Celltype', objects_to_plot=population, ax=axes[0])\n",
    "    # Now visualise the persistence diagram on the right hand axis\n",
    "    ????   \n",
    "    "
   ]
  },
  {
   "cell_type": "markdown",
   "metadata": {},
   "source": [
    "2. Focus on the `H_0` part of the persistence diagrams. Each point represents a distinct \"connected component\". Can you see this in the data that you've plotted? How do the plots from Celltypes A and B differ from Celltype C? And how does the Celltype D plot differ?\n",
    "\n",
    "3. Try loading in the different synthetic datasets and using the Vietoris Rips filtration to answer the following questions:\n",
    "    - How many \"crypts\" are there in the ```'Synthetic-Points-Architecture'``` dataset?\n",
    "    - How many distinct clusters are there in the ```'Synthetic-Points-Aggregation'``` dataset?\n",
    "    - How many aggregates are there in the Celltype C population of the ```'Synthetic-Points-Architecture'``` dataset?\n",
    "    - If you combine the Celltype A and B populations in the ```'Synthetic-Points-Architecture'``` dataset into a single population, how many loops are there? Is this the same as the number of Celltype C aggregates? Can you see why?\n",
    "    - Can you identify any loops in the Celltype C population in the ```'Synthetic-Points-Exclusion'``` dataset? Can you see why / why not?\n",
    "\n",
    "4. Load the ```'Xenium-Healthy-Colon'``` dataset. \n",
    "    - Using queries, select one cell from the PROG population.\n",
    "    - Find the area and perimeter of the cell nucleus.\n",
    "    - Get all transcripts for this cell which are not in the nucleus.\n",
    "    - Calculate the Vietoris-Rips persistence diagram for these transcripts. Can you see the loop formed around the hole left by the nucleus?\n",
    "    - How does the 'death' value of this loop relate to the area and perimeter of the nucleus that you calculated earlier? \n",
    "    - - (Hint - divide the death value by sqrt(3)...)\n",
    "    - - (Hint - assuming that the nucleus was a circle, given the area you've found, what would it's radius be?)\n"
   ]
  }
 ],
 "metadata": {
  "kernelspec": {
   "display_name": "muspan-venv",
   "language": "python",
   "name": "python3"
  },
  "language_info": {
   "codemirror_mode": {
    "name": "ipython",
    "version": 3
   },
   "file_extension": ".py",
   "mimetype": "text/x-python",
   "name": "python",
   "nbconvert_exporter": "python",
   "pygments_lexer": "ipython3",
   "version": "3.12.2"
  }
 },
 "nbformat": 4,
 "nbformat_minor": 2
}
