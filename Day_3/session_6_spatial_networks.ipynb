{
 "cells": [
  {
   "cell_type": "markdown",
   "metadata": {},
   "source": [
    "# Practical session: Using spatial networks"
   ]
  },
  {
   "cell_type": "markdown",
   "metadata": {},
   "source": [
    "\n",
    "Tissues are not just a collection of cells — they are structured systems where cell–cell interactions drive fundamental biological processes such as growth, differentiation, immune surveillance, and disease progression. In cancer, for instance, the tumour microenvironment consists of malignant, stromal, and immune cells that communicate through direct contact, secreted factors, and extracellular signals. Understanding how these cells are spatially arranged and interact in situ is essential for uncovering the mechanistic processes that govern tumour behaviour.\n",
    "Spatial transcriptomics and imaging-based assays now allow us to map these interactions at single-cell resolution. By representing cells as nodes and their physical contacts or proximity relationships as edges, we can construct spatial networks that quantify the local architecture of tissues. Network-based methods then enable us to identify communities of interacting cells, test for non-random associations between cell types, and relate spatial organization to molecular features.\n",
    "\n",
    "---\n",
    "\n",
    "### Practical task\n",
    "\n",
    "In this practical session, use the `Mouse-Colon-Carcinoma` dataset to identify the spatial heterogenity of local spatial cell-cell interactions using spatial networks. Namely,\n",
    "1. Generate a network (which network? what are the edges representing?)\n",
    "2. Adjacency Permutation Test (all sample)\n",
    "3. Run community detection (what resolution? how does this impact community size?)\n",
    "4. Communities to shapes with alpha shapes (what alpha value should we choose?)\n",
    "5. Adjacency Permutation Test (per community) - use loops and APT value labels to community shapes!\n",
    "6. Show results on community shape\n",
    "\n",
    "These analyses will help us uncover spatially distinct interaction niches within the tumour, providing a framework for studying how cancer and its microenvironment co-organise in space.\n",
    "\n",
    "---\n",
    "\n",
    "Some tips:\n",
    "- Check out our tutorial on community detection https://docs.muspan.co.uk/latest/_collections/network_analysis/Network%20methods%20-%202%20-%20community_detection.html\n",
    "- Check out our tutorial on converting objects using alpha shapes https://docs.muspan.co.uk/latest/_collections/working_with_objects/WWO%20-%204%20-%20points%20to%20shape%201.html\n",
    "\n",
    "\n",
    "\n"
   ]
  }
 ],
 "metadata": {
  "kernelspec": {
   "display_name": "base",
   "language": "python",
   "name": "python3"
  },
  "language_info": {
   "codemirror_mode": {
    "name": "ipython",
    "version": 3
   },
   "file_extension": ".py",
   "mimetype": "text/x-python",
   "name": "python",
   "nbconvert_exporter": "python",
   "pygments_lexer": "ipython3",
   "version": "3.12.2"
  }
 },
 "nbformat": 4,
 "nbformat_minor": 2
}
