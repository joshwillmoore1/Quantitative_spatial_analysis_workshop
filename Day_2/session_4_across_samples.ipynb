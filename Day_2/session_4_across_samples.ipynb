{
 "cells": [
  {
   "cell_type": "markdown",
   "metadata": {},
   "source": [
    "# Spatial analysis across multiple regions"
   ]
  },
  {
   "cell_type": "markdown",
   "metadata": {},
   "source": [
    "We'll now think about how to break down large samples into multiple regions, and how to aggregate statistics between multiple regions. As we've seen in the talk, these pose very similar statistical problems. We'll start by considering a large sample, here using an example of an adenoma stained for immune cells using the Vectra IF platform (from the Leedham lab, https://doi.org/10.1101/2024.06.02.597010)."
   ]
  },
  {
   "cell_type": "code",
   "execution_count": null,
   "metadata": {},
   "outputs": [],
   "source": [
    "# Import necessary libraries\n",
    "import muspan as ms\n",
    "import pandas as pd\n",
    "import numpy as np  \n",
    "import matplotlib.pyplot as plt \n",
    "\n",
    "# Load immune cell data from a CSV file into a DataFrame - we'll grab the csv from our website\n",
    "colon_ad_immune = pd.read_csv('https://www.docs.muspan.co.uk/workshops/data_for_workshops/Adenoma_Immune.csv')\n",
    "colon_ad_immune"
   ]
  },
  {
   "cell_type": "markdown",
   "metadata": {},
   "source": [
    "Let's first convert this into a single giant domain. We'll add the cell centres, some associated labels, and we'll update the domain boundary."
   ]
  },
  {
   "cell_type": "code",
   "execution_count": null,
   "metadata": {},
   "outputs": [],
   "source": [
    "# Get the list of columns in the DataFrame\n",
    "cols = colon_ad_immune.columns.tolist()\n",
    "\n",
    "# Create a new DataFrame with the same columns\n",
    "colon_ad_immune_out = colon_ad_immune[cols]\n",
    "\n",
    "# Extract coordinates for the points (XMin, YMin) and create a mask for cell types\n",
    "pts = np.array([colon_ad_immune['XMin'], colon_ad_immune['YMin']]).T\n",
    "mask = np.zeros(len(pts))\n",
    "\n",
    "# Dictionary to map cell type indices to their names\n",
    "ctdict = {\n",
    "    0: 'None',\n",
    "    1: 'T Helper Cell',\n",
    "    2: 'Treg Cell', \n",
    "    3: 'Cytotoxic T Cell', \n",
    "    4: 'Macrophage',\n",
    "    5: 'Neutrophil', \n",
    "    6: 'Epithelium'\n",
    "}\n",
    "\n",
    "# Assign indices to the mask based on the presence of each cell type\n",
    "for i, ct in enumerate(['T Helper Cell', 'Treg Cell', 'Cytotoxic T Cell', 'Macrophage', 'Neutrophil', 'Epithelium']):\n",
    "    mask[colon_ad_immune[ct] == 1] = i + 1\n",
    "\n",
    "# Create labels for each point based on the mask\n",
    "labels = [ctdict[v] for v in mask]\n",
    "\n",
    "# Create a muspan domain object\n",
    "domain = ms.domain('adcar')\n",
    "\n",
    "# Add points and labels to the domain\n",
    "domain.add_points(pts, collection_name='Immune cells')\n",
    "domain.add_labels('Celltype', labels)\n",
    "\n",
    "# Define colors for each cell type\n",
    "newcolors = {\n",
    "    'None': [0.9, 0.9, 0.9, 1],\n",
    "    'T Helper Cell': plt.cm.tab10(0),\n",
    "    'Treg Cell': plt.cm.tab10(1), \n",
    "    'Cytotoxic T Cell': plt.cm.tab10(2), \n",
    "    'Macrophage': plt.cm.tab10(3),\n",
    "    'Neutrophil': plt.cm.tab10(4), \n",
    "    'Epithelium': [0.7, 0.7, 0.7, 1]\n",
    "}\n",
    "\n",
    "# Update the domain colors based on the defined color mapping\n",
    "domain.update_colors(newcolors, label_name='Celltype')\n",
    "\n",
    "# Estimate the boundary of the domain using the alpha shape method\n",
    "domain.estimate_boundary(method='alpha shape', alpha_shape_kwargs=dict(alpha=200))    \n",
    "\n",
    "# Visualize the domain with the cell type labels and boundary\n",
    "ms.visualise.visualise(domain, 'Celltype', marker_size=1, show_boundary=True)"
   ]
  },
  {
   "cell_type": "markdown",
   "metadata": {},
   "source": [
    "This is a massive sample! Let's generate some lattice to break the domain down into some smaller regions. We'll first do this by generating a hexagonal lattice and assigning all cell centres to a hexagon."
   ]
  },
  {
   "cell_type": "code",
   "execution_count": null,
   "metadata": {},
   "outputs": [],
   "source": [
    "ms.region_based.generate_hexgrid(domain,side_length=500,region_label_name='subregion',regions_collection_name='subregions')\n",
    "ms.visualise.visualise(domain, 'subregion', marker_size=1)  "
   ]
  },
  {
   "cell_type": "markdown",
   "metadata": {},
   "source": [
    "So we now have labels for each object assigning them to a subregion (hexagon) in space. We now have two main options to conduct analysis within them:\n",
    "1. Using the generated lattice shapes as boundaries for statistics to compute stats within each region;\n",
    "2. Generate new domains for each subregion using the `ms.helpers.crop_domains` function in muspan;\n",
    "\n",
    "\n",
    "We'll go with 1 for now, and aim to visualise the spatial heterogenity of our data. If we want to compute statistics within each region, we'll need to know what region label categories we have. We can grab these using the `ms.query.get_labels()` function: "
   ]
  },
  {
   "cell_type": "code",
   "execution_count": null,
   "metadata": {},
   "outputs": [],
   "source": [
    "# Retrieve labels for subregions from the domain\n",
    "subregions_labels, _ = ms.query.get_labels(domain, 'subregion')\n",
    "\n",
    "# Get unique categories of subregions\n",
    "subregions_labels_categories = np.unique(subregions_labels)\n",
    "\n",
    "# Print the unique subregion categories\n",
    "print(subregions_labels_categories)\n"
   ]
  },
  {
   "cell_type": "markdown",
   "metadata": {},
   "source": [
    "For now, we'll keep it simple and just compute the density of cells in each region of our sample. We'll add the resultant densities as labels to the region shapes and also store the raw numeric outputs in a list."
   ]
  },
  {
   "cell_type": "code",
   "execution_count": 5,
   "metadata": {},
   "outputs": [],
   "source": [
    "# make some empty lists to hold results\n",
    "Neutrophil_density = []    \n",
    "\n",
    "for subregion_id in subregions_labels_categories:\n",
    "    \n",
    "    # get the boundary shape of the subregion\n",
    "    this_shape_boundary = ms.query.query_container(('collection','subregions'),'AND',('subregion',subregion_id),domain)\n",
    "    \n",
    "    # get the cell population within the subregion\n",
    "    this_sub_population = ms.query.query_container(('collection','Immune cells'),'AND',('subregion',subregion_id),domain)\n",
    "    \n",
    "    # run a statistic (here we'll be really bold and just calculate cell density)\n",
    "    cell_density,_,label_categories = ms.summary_statistics.label_density(domain,label_name='Celltype',population=this_sub_population,include_boundaries=this_shape_boundary)\n",
    "    \n",
    "    # add result to a list (just Neutrophils for now)\n",
    "    this_Neutrophil_density = 0\n",
    "    if 'Neutrophil' in label_categories:\n",
    "        neutrophil_index = np.where(label_categories=='Neutrophil')[0][0]\n",
    "        this_Neutrophil_density = cell_density[neutrophil_index]\n",
    "\n",
    "    Neutrophil_density.append(this_Neutrophil_density)\n",
    "    \n",
    "    # add result to the region shapa as a label (just Neutrophils for now)\n",
    "    domain.add_labels('neutrophil density', [this_Neutrophil_density], add_labels_to=this_shape_boundary,label_type='continuous')\n"
   ]
  },
  {
   "cell_type": "markdown",
   "metadata": {},
   "source": [
    "Now we've computed our neutrophil densities, let's visualise this on our tissue"
   ]
  },
  {
   "cell_type": "code",
   "execution_count": null,
   "metadata": {},
   "outputs": [],
   "source": [
    "ms.visualise.visualise(domain,'neutrophil density', objects_to_plot=('collection','subregions'),vmin=0,vmax=5e-4, shape_kwargs=dict(alpha=1))"
   ]
  },
  {
   "cell_type": "markdown",
   "metadata": {},
   "source": [
    "We can also plot our numeric densities as a histogram - we don't need MuSpAn for this, because we have the raw data, so we'll just use PyPlot."
   ]
  },
  {
   "cell_type": "code",
   "execution_count": null,
   "metadata": {},
   "outputs": [],
   "source": [
    "fig,ax=plt.subplots(1,1,figsize=(8,6))\n",
    "ax.hist(Neutrophil_density, bins=20, color='blue', alpha=0.7)\n",
    "ax.set_title('Histogram of Neutrophil Density')\n",
    "ax.set_xlabel('Density (µm⁻²)')\n",
    "ax.set_ylabel('Frequency')\n"
   ]
  },
  {
   "cell_type": "markdown",
   "metadata": {},
   "source": [
    "### Spatial analysis in multiple regions\n",
    "\n",
    "Now that we understand how to compute a non-spatial metric within subregions of the tissue, we can move on to more informative spatial metrics within each of these regions:\n",
    "\n",
    "1. Run the QCM to identify pairs of cell types that are co-localised or mutually excluded (make sure to note the chosen region size).\n",
    "2. Divide the tissue domain into regions of that same size.\n",
    "3. For each region, compute the cross-PCF for the cell-type pairs of interest and extract a summary statistic (e.g. a scalar value such as g(r = 0)).\n",
    "4. Attach these summary values to the corresponding region shapes for visualisation.\n",
    "5. Finally, apply the Getis-Ord statistic to the region shapes to identify hotspots—areas where regions with similar summary statistics cluster together.\n"
   ]
  }
 ],
 "metadata": {
  "kernelspec": {
   "display_name": "base",
   "language": "python",
   "name": "python3"
  },
  "language_info": {
   "codemirror_mode": {
    "name": "ipython",
    "version": 3
   },
   "file_extension": ".py",
   "mimetype": "text/x-python",
   "name": "python",
   "nbconvert_exporter": "python",
   "pygments_lexer": "ipython3",
   "version": "3.12.2"
  }
 },
 "nbformat": 4,
 "nbformat_minor": 2
}
